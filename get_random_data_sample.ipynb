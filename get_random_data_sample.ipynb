{
 "cells": [
  {
   "cell_type": "code",
   "execution_count": 1,
   "id": "c405f0f5",
   "metadata": {},
   "outputs": [],
   "source": [
    "import pandas as pd"
   ]
  },
  {
   "cell_type": "code",
   "execution_count": 8,
   "id": "80b04e16",
   "metadata": {},
   "outputs": [],
   "source": [
    "rawDF = pd.read_csv(\"~/BusDataAnalytics/data/rt_leavetimes_DB_2018.txt\", delimiter = \";\")"
   ]
  },
  {
   "cell_type": "code",
   "execution_count": 10,
   "id": "4f39dfe5",
   "metadata": {},
   "outputs": [],
   "source": [
    "sampleDF = rawDF.sample(frac=0.05)"
   ]
  },
  {
   "cell_type": "code",
   "execution_count": 14,
   "id": "00e90faa",
   "metadata": {},
   "outputs": [],
   "source": [
    "sampleDF.to_csv(\"leavetimesRandomSample.csv\", sep = \",\")"
   ]
  },
  {
   "cell_type": "code",
   "execution_count": null,
   "id": "0444de00",
   "metadata": {},
   "outputs": [],
   "source": []
  }
 ],
 "metadata": {
  "kernelspec": {
   "display_name": "Python 3",
   "language": "python",
   "name": "python3"
  },
  "language_info": {
   "codemirror_mode": {
    "name": "ipython",
    "version": 3
   },
   "file_extension": ".py",
   "mimetype": "text/x-python",
   "name": "python",
   "nbconvert_exporter": "python",
   "pygments_lexer": "ipython3",
   "version": "3.8.8"
  }
 },
 "nbformat": 4,
 "nbformat_minor": 5
}
